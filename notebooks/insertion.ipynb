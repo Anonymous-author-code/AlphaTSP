{
 "cells": [
  {
   "cell_type": "code",
   "execution_count": 1,
   "metadata": {},
   "outputs": [],
   "source": [
    "import sys\n",
    "sys.path.append(\"../\")"
   ]
  },
  {
   "cell_type": "code",
   "execution_count": 2,
   "metadata": {},
   "outputs": [],
   "source": [
    "import numpy as np\n",
    "import scipy.spatial.distance"
   ]
  },
  {
   "cell_type": "code",
   "execution_count": 3,
   "metadata": {},
   "outputs": [],
   "source": [
    "import alphatsp\n",
    "import alphatsp.tsp"
   ]
  },
  {
   "cell_type": "code",
   "execution_count": 4,
   "metadata": {},
   "outputs": [],
   "source": [
    "def nearest_insertion(tsp):\n",
    "    \n",
    "    distances = scipy.spatial.distance.pdist(tsp.points, metric=\"euclidean\")\n",
    "    distances = scipy.spatial.distance.squareform(distances)\n",
    "    np.fill_diagonal(distances, np.inf)\n",
    "\n",
    "    adj = np.zeros((tsp.n, tsp.n), dtype=np.bool)\n",
    "    start_node = np.argmax(distances[0, 1:]) + 1\n",
    "    adj[0, start_node] = 1\n",
    "    adj[start_node, 0] = 1\n",
    "\n",
    "    nontour_nodes = set(range(tsp.n))\n",
    "    tour_nodes = list()\n",
    "\n",
    "    nontour_nodes.remove(0)\n",
    "    nontour_nodes.remove(start_node)\n",
    "    tour_nodes.append(0)\n",
    "    tour_nodes.append(start_node)\n",
    "\n",
    "    while nontour_nodes:\n",
    "        \n",
    "        best_dist = np.inf\n",
    "        best_edge = (-1, -1)\n",
    "        \n",
    "        for i in nontour_nodes:\n",
    "            \n",
    "            dists = distances[i, tour_nodes]\n",
    "            opt_ind = np.argmin(dists)\n",
    "            opt_dist = dists[opt_ind]\n",
    "            opt_node = tour_nodes[opt_ind]\n",
    "            \n",
    "            if opt_dist < best_dist:\n",
    "                best_dist = opt_dist\n",
    "                best_edge = (i, opt_node)\n",
    "                \n",
    "        i, j = best_edge\n",
    "                \n",
    "        tour_nodes.append(i)\n",
    "        nontour_nodes.remove(i)\n",
    "        \n",
    "        egde_in = np.argmax(adj[:,j])\n",
    "        edge_out = np.argmax(adj[j,:])\n",
    "        \n",
    "        inc1 = distances[egde_in, i] + distances[i, j] - distances[egde_in, j]\n",
    "        inc2 = distances[j, i] + distances[i, edge_out] - distances[j, edge_out]\n",
    "        \n",
    "        if inc1 <= inc2:\n",
    "            adj[egde_in, j] = 0\n",
    "            adj[egde_in, i] = 1\n",
    "            adj[i, j] = 1\n",
    "        else:\n",
    "            adj[j, edge_out] = 0\n",
    "            adj[i, edge_out] = 1\n",
    "            adj[j, i] = 1\n",
    "            \n",
    "    tour = [0]\n",
    "    while len(tour) <= tsp.n:\n",
    "        tour.append(np.argmax(adj[tour[-1], :]))\n",
    "\n",
    "    return tour"
   ]
  },
  {
   "cell_type": "code",
   "execution_count": 5,
   "metadata": {},
   "outputs": [],
   "source": [
    "tsp = alphatsp.tsp.TSP(100, 2)"
   ]
  },
  {
   "cell_type": "code",
   "execution_count": 6,
   "metadata": {},
   "outputs": [],
   "source": [
    "optimal_tour = nearest_insertion(tsp)\n",
    "optimal_distance = tsp.tour_length(optimal_tour)"
   ]
  },
  {
   "cell_type": "code",
   "execution_count": 7,
   "metadata": {},
   "outputs": [
    {
     "name": "stdout",
     "output_type": "stream",
     "text": [
      "[0, 92, 29, 43, 4, 3, 33, 97, 41, 84, 88, 30, 10, 71, 56, 26, 45, 83, 90, 38, 67, 87, 22, 40, 7, 32, 62, 99, 18, 36, 63, 70, 89, 13, 42, 49, 55, 54, 39, 16, 23, 53, 47, 60, 52, 25, 68, 78, 86, 11, 61, 80, 69, 91, 94, 15, 14, 58, 96, 48, 6, 64, 35, 66, 31, 59, 74, 19, 93, 12, 24, 51, 9, 17, 27, 81, 1, 8, 2, 95, 46, 50, 28, 21, 65, 75, 57, 76, 98, 37, 44, 73, 85, 5, 20, 77, 72, 82, 34, 79, 0]\n",
      "10.537137610992794\n"
     ]
    }
   ],
   "source": [
    "print(optimal_tour)\n",
    "print(optimal_distance)"
   ]
  },
  {
   "cell_type": "code",
   "execution_count": null,
   "metadata": {},
   "outputs": [],
   "source": []
  }
 ],
 "metadata": {
  "kernelspec": {
   "display_name": "Python 3",
   "language": "python",
   "name": "python3"
  },
  "language_info": {
   "codemirror_mode": {
    "name": "ipython",
    "version": 3
   },
   "file_extension": ".py",
   "mimetype": "text/x-python",
   "name": "python",
   "nbconvert_exporter": "python",
   "pygments_lexer": "ipython3",
   "version": "3.7.2"
  }
 },
 "nbformat": 4,
 "nbformat_minor": 2
}
