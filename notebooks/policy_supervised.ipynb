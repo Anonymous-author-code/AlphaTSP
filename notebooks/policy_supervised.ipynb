{
 "cells": [
  {
   "cell_type": "code",
   "execution_count": 1,
   "metadata": {},
   "outputs": [],
   "source": [
    "import sys\n",
    "sys.path.append(\"../\")"
   ]
  },
  {
   "cell_type": "code",
   "execution_count": 2,
   "metadata": {},
   "outputs": [],
   "source": [
    "import alphatsp\n",
    "import alphatsp.tsp\n",
    "import alphatsp.util"
   ]
  },
  {
   "cell_type": "code",
   "execution_count": 3,
   "metadata": {},
   "outputs": [],
   "source": [
    "import torch\n",
    "from torch import nn\n",
    "import torch.nn.functional as F"
   ]
  },
  {
   "cell_type": "code",
   "execution_count": 4,
   "metadata": {},
   "outputs": [],
   "source": [
    "import torch_geometric\n",
    "from torch_geometric.nn import GCNConv\n",
    "from torch_geometric.data import Data, DataLoader"
   ]
  },
  {
   "cell_type": "code",
   "execution_count": 5,
   "metadata": {},
   "outputs": [],
   "source": [
    "import tqdm"
   ]
  },
  {
   "cell_type": "code",
   "execution_count": 6,
   "metadata": {},
   "outputs": [],
   "source": [
    "import numpy as np"
   ]
  },
  {
   "cell_type": "code",
   "execution_count": 7,
   "metadata": {},
   "outputs": [],
   "source": [
    "import matplotlib\n",
    "import matplotlib.pyplot as plt"
   ]
  },
  {
   "cell_type": "code",
   "execution_count": 8,
   "metadata": {},
   "outputs": [],
   "source": [
    "N, D = 20, 2"
   ]
  },
  {
   "cell_type": "code",
   "execution_count": 9,
   "metadata": {},
   "outputs": [],
   "source": [
    "point_sampler = torch.distributions.Uniform(torch.tensor([0.0]), torch.tensor([1.0]))"
   ]
  },
  {
   "cell_type": "code",
   "execution_count": 10,
   "metadata": {},
   "outputs": [],
   "source": [
    "def compute_tour_length(graph, tour):\n",
    "    if isinstance(graph, torch_geometric.data.data.Data): points = graph.pos\n",
    "    else: points = graph\n",
    "    points = points[tour]\n",
    "    diffs = np.diff(points, axis=0)\n",
    "    tour_len = np.linalg.norm(diffs, axis=1, ord=2).sum()\n",
    "    return tour_len"
   ]
  },
  {
   "cell_type": "code",
   "execution_count": 11,
   "metadata": {},
   "outputs": [],
   "source": [
    "def greedy_solver(graph, selection_func, iterations=None, partial_tour=None):\n",
    "    \n",
    "    if isinstance(graph, torch_geometric.data.data.Data): points = graph.pos\n",
    "    else: points = graph\n",
    "    n, d = points.shape\n",
    "    \n",
    "    if partial_tour is None:\n",
    "        tour = [0]\n",
    "    else:\n",
    "        tour = partial_tour\n",
    "    \n",
    "    remaining = list(set(range(n)) - set(tour))\n",
    "    \n",
    "    it = len(tour)\n",
    "    while remaining:\n",
    "        if iterations is not None and iterations <= it: break\n",
    "        it += 1\n",
    "\n",
    "        next_remaining = selection_func(graph, tour, remaining)\n",
    "        next_node = remaining[next_remaining]\n",
    "        \n",
    "        tour.append(next_node)\n",
    "        remaining = list(set(range(n)) - set(tour))\n",
    "    \n",
    "    if iterations is None:\n",
    "        tour.append(tour[0])\n",
    "\n",
    "    return tour"
   ]
  },
  {
   "cell_type": "code",
   "execution_count": 12,
   "metadata": {},
   "outputs": [],
   "source": [
    "def nearest_selection(graph, tour, remaining):\n",
    "    if isinstance(graph, torch_geometric.data.data.Data): points = graph.pos\n",
    "    else: points = graph\n",
    "    return torch.argmin(torch.norm(points[tour[-1]] - points[remaining], p=2, dim=1))"
   ]
  },
  {
   "cell_type": "code",
   "execution_count": 13,
   "metadata": {},
   "outputs": [],
   "source": [
    "def nn_selection(graph, tour, remaining):\n",
    "    choices = torch.tensor(sorted(remaining), dtype=torch.long)\n",
    "    pred = policy_network(graph, choices)\n",
    "    pred = torch.argmax(pred[0].squeeze())\n",
    "    return pred"
   ]
  },
  {
   "cell_type": "code",
   "execution_count": 14,
   "metadata": {},
   "outputs": [],
   "source": [
    "# generate random triplets of (graph, choices, best_choice)\n",
    "# according to some selection function\n",
    "def generate_example(n=10, d=2, selection_func=nearest_selection):\n",
    "    \n",
    "    points = point_sampler.sample((n, d)).squeeze().to(dtype=torch.float)\n",
    "    iterations = np.random.randint(n-2)\n",
    "    # TODO: weight the iteration selection so that examples with few iterations produced more\n",
    "    \n",
    "    tour = greedy_solver(points, selection_func, iterations=iterations)\n",
    "    remaining = sorted(list(set(range(n)) - set(tour)))\n",
    "    remaining = torch.tensor(remaining, dtype=torch.long)\n",
    "    \n",
    "    next_remaining = selection_func(points, tour, remaining)\n",
    "    next_node = remaining[next_remaining]\n",
    "    \n",
    "    label = torch.zeros(len(remaining), dtype=torch.float)\n",
    "    label[next_remaining] = 1\n",
    "    \n",
    "    y = torch.zeros(n, dtype=torch.float)\n",
    "    y[next_node] = 1\n",
    "    \n",
    "    full_tour = greedy_solver(points, selection_func, partial_tour=tour)\n",
    "    value = compute_tour_length(points, full_tour)\n",
    "    value = torch.tensor(value)\n",
    "    \n",
    "    edges = torch.zeros((2, len(tour)-1), dtype=torch.long)\n",
    "    for i in range(len(tour)-1):\n",
    "        edges[0, i] = tour[i]\n",
    "        edges[1, i] = tour[i+1]\n",
    "    \n",
    "    graph = Data(pos=points, edge_index=edges, y=y)\n",
    "    \n",
    "    return graph, remaining, label, value"
   ]
  },
  {
   "cell_type": "code",
   "execution_count": 15,
   "metadata": {},
   "outputs": [],
   "source": [
    "class PolicyNetwork(nn.Module):\n",
    "    def __init__(self, n=10, d=2):\n",
    "        super(PolicyNetwork, self).__init__()\n",
    "        self.conv1 = GCNConv(d, 16)\n",
    "        self.conv2 = GCNConv(16, 1)\n",
    "        self.fc = nn.Linear(n, 1)\n",
    "    \n",
    "    def forward(self, graph, choices):\n",
    "        x, edges = graph.pos, graph.edge_index\n",
    "        \n",
    "        x = self.conv1(x, edges)\n",
    "        x = F.relu(x)\n",
    "        x = self.conv2(x, edges)\n",
    "        \n",
    "        choice = x[choices]\n",
    "        choice = F.softmax(choice, dim=0)\n",
    "        \n",
    "        value = self.fc(F.relu(x.squeeze()))\n",
    "\n",
    "        return choice, value"
   ]
  },
  {
   "cell_type": "code",
   "execution_count": 32,
   "metadata": {},
   "outputs": [],
   "source": [
    "policy_network = PolicyNetwork(n=N, d=D)"
   ]
  },
  {
   "cell_type": "code",
   "execution_count": 41,
   "metadata": {},
   "outputs": [],
   "source": [
    "optimizer = torch.optim.Adam(params=policy_network.parameters(), lr=1e-4)\n",
    "loss_func = nn.MSELoss()"
   ]
  },
  {
   "cell_type": "code",
   "execution_count": 42,
   "metadata": {},
   "outputs": [],
   "source": [
    "def train(model, iterations=1000):\n",
    "    losses = []\n",
    "    policy_network.train()\n",
    "    for _ in tqdm.tqdm(range(iterations)):\n",
    "        graph, choices, next_node, value = generate_example(n=N, d=D)\n",
    "        pred_choices, pred_value = model(graph, choices)\n",
    "        loss = loss_func(pred_choices, next_node) + (0.2 * loss_func(pred_value, value))\n",
    "        losses.append(loss.item())\n",
    "        optimizer.zero_grad()\n",
    "        loss.backward()\n",
    "        optimizer.step()\n",
    "    return model, losses"
   ]
  },
  {
   "cell_type": "code",
   "execution_count": 43,
   "metadata": {},
   "outputs": [
    {
     "name": "stderr",
     "output_type": "stream",
     "text": [
      "100%|██████████| 30000/30000 [01:07<00:00, 444.19it/s]\n"
     ]
    }
   ],
   "source": [
    "policy_network, losses = train(policy_network, iterations=30000)"
   ]
  },
  {
   "cell_type": "code",
   "execution_count": 44,
   "metadata": {},
   "outputs": [],
   "source": [
    "def test_tour(model):\n",
    "    \n",
    "    graph, choices, next_node, value = generate_example(n=N, d=D)\n",
    "    \n",
    "    tour_greedy = greedy_solver(graph, nearest_selection)\n",
    "    tour_nn = greedy_solver(graph, nn_selection)\n",
    "    \n",
    "    tour_len_greedy = compute_tour_length(graph, tour_greedy)\n",
    "    tour_len_nn = compute_tour_length(graph, tour_nn)\n",
    "    \n",
    "    return tour_greedy, tour_nn, tour_len_greedy, tour_len_nn"
   ]
  },
  {
   "cell_type": "code",
   "execution_count": 45,
   "metadata": {},
   "outputs": [],
   "source": [
    "def test_value(model):\n",
    "    graph, choices, next_node, value = generate_example(n=N, d=D)\n",
    "    pred_value = model(graph, choices)[1]\n",
    "    return value, pred_value"
   ]
  },
  {
   "cell_type": "code",
   "execution_count": 46,
   "metadata": {},
   "outputs": [],
   "source": [
    "def test_tour_average(model, trials=200):\n",
    "    \n",
    "    greedy_lengths = torch.zeros(trials)\n",
    "    nn_lengths = torch.zeros(trials)\n",
    "    \n",
    "    for i in tqdm.tqdm(range(trials)):\n",
    "    \n",
    "        graph, choices, next_node, value = generate_example(n=N, d=D)\n",
    "\n",
    "        tour_greedy = greedy_solver(graph, nearest_selection)\n",
    "        tour_nn = greedy_solver(graph, nn_selection)\n",
    "\n",
    "        greedy_lengths[i] = torch.tensor(compute_tour_length(graph, tour_greedy))\n",
    "        nn_lengths[i] = torch.tensor(compute_tour_length(graph, tour_nn))\n",
    "        \n",
    "    diffs = nn_lengths - greedy_lengths\n",
    "    avg_diff = diffs.mean()\n",
    "    percent_diff = (nn_lengths / greedy_lengths).mean()\n",
    "    \n",
    "    return avg_diff, percent_diff"
   ]
  },
  {
   "cell_type": "code",
   "execution_count": 47,
   "metadata": {},
   "outputs": [],
   "source": [
    "def test_value_average(model, trials=200):\n",
    "    \n",
    "    true_values = torch.zeros(trials)\n",
    "    pred_values = torch.zeros(trials)\n",
    "    \n",
    "    for i in tqdm.tqdm(range(trials)):\n",
    "        \n",
    "        graph, choices, next_node, value = generate_example(n=N, d=D)\n",
    "        pred_value = model(graph, choices)[1]\n",
    "        \n",
    "        true_values[i] = value\n",
    "        pred_values[i] = pred_value\n",
    "        \n",
    "    diffs = torch.abs(true_values - pred_values)\n",
    "    \n",
    "    print(true_values.mean(), true_values.std())\n",
    "    \n",
    "    avg_diff = diffs.mean()\n",
    "    percent_diff = (diffs / torch.max(true_values, pred_values)).mean()\n",
    "        \n",
    "    return avg_diff, percent_diff"
   ]
  },
  {
   "cell_type": "code",
   "execution_count": 48,
   "metadata": {},
   "outputs": [
    {
     "data": {
      "image/png": "[encoded data removed]",
      "text/plain": [
       "<Figure size 432x288 with 1 Axes>"
      ]
     },
     "metadata": {
      "needs_background": "light"
     },
     "output_type": "display_data"
    }
   ],
   "source": [
    "plt.plot(losses)\n",
    "plt.show()"
   ]
  },
  {
   "cell_type": "code",
   "execution_count": 49,
   "metadata": {},
   "outputs": [
    {
     "data": {
      "text/plain": [
       "([0, 9, 3, 14, 7, 18, 5, 11, 6, 2, 12, 10, 15, 17, 13, 4, 19, 16, 8, 1, 0],\n",
       " [0, 18, 11, 5, 7, 6, 2, 14, 1, 3, 9, 12, 17, 15, 10, 13, 16, 19, 4, 8, 0],\n",
       " 4.0847597,\n",
       " 7.821255)"
      ]
     },
     "execution_count": 49,
     "metadata": {},
     "output_type": "execute_result"
    }
   ],
   "source": [
    "test_tour(policy_network)"
   ]
  },
  {
   "cell_type": "code",
   "execution_count": 50,
   "metadata": {},
   "outputs": [
    {
     "data": {
      "text/plain": [
       "(tensor(4.4656), tensor([2.9684], grad_fn=<AddBackward0>))"
      ]
     },
     "execution_count": 50,
     "metadata": {},
     "output_type": "execute_result"
    }
   ],
   "source": [
    "test_value(policy_network)"
   ]
  },
  {
   "cell_type": "code",
   "execution_count": 51,
   "metadata": {},
   "outputs": [
    {
     "name": "stderr",
     "output_type": "stream",
     "text": [
      "100%|██████████| 1000/1000 [00:13<00:00, 73.09it/s]\n"
     ]
    },
    {
     "data": {
      "text/plain": [
       "(tensor(3.7079), tensor(1.8410))"
      ]
     },
     "execution_count": 51,
     "metadata": {},
     "output_type": "execute_result"
    }
   ],
   "source": [
    "test_tour_average(policy_network, trials=1000)"
   ]
  },
  {
   "cell_type": "code",
   "execution_count": 52,
   "metadata": {},
   "outputs": [
    {
     "name": "stderr",
     "output_type": "stream",
     "text": [
      "100%|██████████| 1000/1000 [00:01<00:00, 555.79it/s]"
     ]
    },
    {
     "name": "stdout",
     "output_type": "stream",
     "text": [
      "tensor(4.5352) tensor(0.5506)\n"
     ]
    },
    {
     "name": "stderr",
     "output_type": "stream",
     "text": [
      "\n"
     ]
    },
    {
     "data": {
      "text/plain": [
       "(tensor(1.5667, grad_fn=<MeanBackward1>),\n",
       " tensor(0.3357, grad_fn=<MeanBackward1>))"
      ]
     },
     "execution_count": 52,
     "metadata": {},
     "output_type": "execute_result"
    }
   ],
   "source": [
    "test_value_average(policy_network, trials=1000)"
   ]
  },
  {
   "cell_type": "code",
   "execution_count": null,
   "metadata": {},
   "outputs": [],
   "source": []
  }
 ],
 "metadata": {
  "kernelspec": {
   "display_name": "Python 3",
   "language": "python",
   "name": "python3"
  },
  "language_info": {
   "codemirror_mode": {
    "name": "ipython",
    "version": 3
   },
   "file_extension": ".py",
   "mimetype": "text/x-python",
   "name": "python",
   "nbconvert_exporter": "python",
   "pygments_lexer": "ipython3",
   "version": "3.7.2"
  }
 },
 "nbformat": 4,
 "nbformat_minor": 2
}
