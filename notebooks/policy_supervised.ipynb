{
 "cells": [
  {
   "cell_type": "code",
   "execution_count": 1,
   "metadata": {},
   "outputs": [],
   "source": [
    "import sys\n",
    "sys.path.append(\"../\")"
   ]
  },
  {
   "cell_type": "code",
   "execution_count": 21,
   "metadata": {},
   "outputs": [],
   "source": [
    "import alphatsp\n",
    "import alphatsp.tsp\n",
    "import alphatsp.util"
   ]
  },
  {
   "cell_type": "code",
   "execution_count": 2,
   "metadata": {},
   "outputs": [],
   "source": [
    "import torch\n",
    "from torch import nn\n",
    "import torch.nn.functional as F"
   ]
  },
  {
   "cell_type": "code",
   "execution_count": 3,
   "metadata": {},
   "outputs": [],
   "source": [
    "from torch_geometric.nn import GCNConv\n",
    "from torch_geometric.data import Data, DataLoader"
   ]
  },
  {
   "cell_type": "code",
   "execution_count": 4,
   "metadata": {},
   "outputs": [],
   "source": [
    "import numpy as np"
   ]
  },
  {
   "cell_type": "code",
   "execution_count": 5,
   "metadata": {},
   "outputs": [],
   "source": [
    "import matplotlib\n",
    "import matplotlib.pyplot as plt"
   ]
  },
  {
   "cell_type": "code",
   "execution_count": 6,
   "metadata": {},
   "outputs": [],
   "source": [
    "def greedy_solver(points, selection_func):\n",
    "    \n",
    "    n, d = points.shape\n",
    "    \n",
    "    start = np.random.randint(n)\n",
    "    tour = [start]\n",
    "    remaining = list(set(range(n)) - set(tour))\n",
    "    \n",
    "    while remaining:\n",
    "        \n",
    "        next_remaining = selection_func(points, tour, remaining)\n",
    "        next_node = remaining[next_remaining]\n",
    "        \n",
    "        tour.append(next_node)\n",
    "        remaining = list(set(range(n)) - set(tour))\n",
    "    \n",
    "    tour.append(start)\n",
    "    return tour"
   ]
  },
  {
   "cell_type": "code",
   "execution_count": 7,
   "metadata": {},
   "outputs": [],
   "source": [
    "def nearest_selection(points, tour, remaining):\n",
    "    return np.argmin(np.linalg.norm(points[tour[-1]] - points[remaining], ord=2, axis=1))"
   ]
  },
  {
   "cell_type": "code",
   "execution_count": 8,
   "metadata": {},
   "outputs": [],
   "source": [
    "# generate random pairs of (graph, choice)\n",
    "def generate_example(n=10, d=2, selection_func=nearest_selection):\n",
    "    \n",
    "    points = np.random.rand(n, d)\n",
    "    iterations = np.random.randint(n-1)\n",
    "    \n",
    "    start = np.random.randint(n)\n",
    "    tour = [start]\n",
    "    remaining = list(set(range(n)) - set(tour))\n",
    "    \n",
    "    it = 0\n",
    "    while remaining and it < iterations:\n",
    "        it += 1\n",
    "        \n",
    "        next_remaining = selection_func(points, tour, remaining)\n",
    "        next_node = remaining[next_remaining]\n",
    "        \n",
    "        tour.append(next_node)\n",
    "        remaining = list(set(range(n)) - set(tour))\n",
    "        \n",
    "    next_remaining = selection_func(points, tour, remaining)\n",
    "    next_node = remaining[next_remaining]\n",
    "    \n",
    "    label = torch.zeros(len(remaining), dtype=torch.float)\n",
    "    label[next_remaining] = 1\n",
    "    \n",
    "    y = torch.zeros(n, dtype=torch.float)\n",
    "    y[next_node] = 1\n",
    "    \n",
    "    remaining = torch.tensor(sorted(remaining), dtype=torch.long)\n",
    "    \n",
    "    edges = torch.zeros((2, len(tour)-1), dtype=torch.long)\n",
    "    for i in range(len(tour)-1):\n",
    "        edges[0, i] = tour[i]\n",
    "        edges[1, i] = tour[i+1]\n",
    "    \n",
    "    points = torch.from_numpy(points).to(dtype=torch.float)\n",
    "    graph = Data(pos=points, edge_index=edges, y=y)\n",
    "    \n",
    "    return graph, remaining, label"
   ]
  },
  {
   "cell_type": "code",
   "execution_count": 9,
   "metadata": {},
   "outputs": [
    {
     "data": {
      "text/plain": [
       "(Data(edge_index=[2, 1], pos=[10, 2], y=[10]),\n",
       " tensor([1, 2, 3, 4, 5, 6, 8, 9]),\n",
       " tensor([0., 0., 0., 0., 0., 0., 0., 1.]))"
      ]
     },
     "execution_count": 9,
     "metadata": {},
     "output_type": "execute_result"
    }
   ],
   "source": [
    "generate_example()"
   ]
  },
  {
   "cell_type": "code",
   "execution_count": 10,
   "metadata": {},
   "outputs": [],
   "source": [
    "class PolicyNetwork(nn.Module):\n",
    "    def __init__(self, d=2):\n",
    "        super(PolicyNetwork, self).__init__()\n",
    "        self.conv1 = GCNConv(d, 16)\n",
    "        self.conv2 = GCNConv(16, 1)\n",
    "    \n",
    "    def forward(self, graph, choices):\n",
    "        x, edges = graph.pos, graph.edge_index\n",
    "        \n",
    "        x = self.conv1(x, edges)\n",
    "        x = F.relu(x)\n",
    "        x = self.conv2(x, edges)\n",
    "        x = x[choices]\n",
    "        x = F.softmax(x, dim=0)\n",
    "\n",
    "        return x"
   ]
  },
  {
   "cell_type": "code",
   "execution_count": 11,
   "metadata": {},
   "outputs": [],
   "source": [
    "def nn_selection(points, tour, remaining):\n",
    "    choices = torch.tensor(sorted(remaining), dtype=torch.long)\n",
    "    edges = torch.zeros((2, len(tour)-1), dtype=torch.long)\n",
    "    for i in range(len(tour)-1):\n",
    "        edges[0, i] = tour[i]\n",
    "        edges[1, i] = tour[i+1]\n",
    "    points = torch.from_numpy(points).to(dtype=torch.float)\n",
    "    graph = Data(pos=points, edge_index=edges)\n",
    "    pred = policy_network(graph, choices)\n",
    "    pred = torch.argmax(pred.squeeze())\n",
    "    return pred"
   ]
  },
  {
   "cell_type": "code",
   "execution_count": 12,
   "metadata": {},
   "outputs": [],
   "source": [
    "policy_network = PolicyNetwork()"
   ]
  },
  {
   "cell_type": "code",
   "execution_count": 13,
   "metadata": {},
   "outputs": [],
   "source": [
    "optimizer = torch.optim.Adam(params=policy_network.parameters(), lr=0.01)\n",
    "loss_func = nn.MSELoss()"
   ]
  },
  {
   "cell_type": "code",
   "execution_count": 14,
   "metadata": {},
   "outputs": [],
   "source": [
    "# training\n",
    "losses = []\n",
    "policy_network.train()\n",
    "for _ in range(5000):\n",
    "    graph, choices, next_node = generate_example()\n",
    "    pred = policy_network(graph, choices)\n",
    "    loss = loss_func(pred, next_node)\n",
    "    losses.append(loss.item())\n",
    "    optimizer.zero_grad()\n",
    "    loss.backward()\n",
    "    optimizer.step()"
   ]
  },
  {
   "cell_type": "code",
   "execution_count": 15,
   "metadata": {},
   "outputs": [
    {
     "data": {
      "image/png": "[encoded data removed]",
      "text/plain": [
       "<Figure size 432x288 with 1 Axes>"
      ]
     },
     "metadata": {
      "needs_background": "light"
     },
     "output_type": "display_data"
    }
   ],
   "source": [
    "plt.scatter(x=range(len(losses)), y=losses)\n",
    "plt.show()"
   ]
  },
  {
   "cell_type": "code",
   "execution_count": 24,
   "metadata": {},
   "outputs": [
    {
     "name": "stdout",
     "output_type": "stream",
     "text": [
      "greedy: 3.0505641990507693\n",
      "nn: 3.361090108608024\n"
     ]
    }
   ],
   "source": [
    "# test greedy vs nn\n",
    "points = np.random.rand(10, 2)\n",
    "tour_greedy = greedy_solver(points, nearest_selection)\n",
    "tour_nn = greedy_solver(points, nn_selection)\n",
    "tsp = alphatsp.tsp.TSP(n=10, d=2, points=points)\n",
    "tour_greedy_len = tsp.tour_length(tour_greedy)\n",
    "tour_nn_len = tsp.tour_length(tour_nn)\n",
    "print(\"greedy:\", tour_greedy_len)\n",
    "print(\"nn:\", tour_nn_len)"
   ]
  },
  {
   "cell_type": "code",
   "execution_count": 25,
   "metadata": {},
   "outputs": [
    {
     "data": {
      "image/png": "[encoded data removed]",
      "text/plain": [
       "<Figure size 432x288 with 1 Axes>"
      ]
     },
     "metadata": {},
     "output_type": "display_data"
    },
    {
     "data": {
      "image/png": "[encoded data removed]",
      "text/plain": [
       "<Figure size 432x288 with 1 Axes>"
      ]
     },
     "metadata": {},
     "output_type": "display_data"
    }
   ],
   "source": [
    "alphatsp.util.display_tour(tsp, tour_greedy, title=\"Nearest Neighbor Guided\")\n",
    "alphatsp.util.display_tour(tsp, tour_nn, title=\"Neural Network Guided\")"
   ]
  },
  {
   "cell_type": "code",
   "execution_count": null,
   "metadata": {},
   "outputs": [],
   "source": []
  }
 ],
 "metadata": {
  "kernelspec": {
   "display_name": "Python 3",
   "language": "python",
   "name": "python3"
  },
  "language_info": {
   "codemirror_mode": {
    "name": "ipython",
    "version": 3
   },
   "file_extension": ".py",
   "mimetype": "text/x-python",
   "name": "python",
   "nbconvert_exporter": "python",
   "pygments_lexer": "ipython3",
   "version": "3.7.2"
  }
 },
 "nbformat": 4,
 "nbformat_minor": 2
}
